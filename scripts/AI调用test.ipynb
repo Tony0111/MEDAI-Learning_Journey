{
 "cells": [
  {
   "cell_type": "code",
   "execution_count": null,
   "id": "5df8212e",
   "metadata": {},
   "outputs": [
    {
     "name": "stdout",
     "output_type": "stream",
     "text": [
      "Claude 工作正常\n"
     ]
    }
   ],
   "source": [
    "import requests\n",
    "\n",
    "# 只需修改这两个参数 ↓\n",
    "API_KEY = \"sk-or-v1-16f6928405720688ad5456229363f1317b494\"  # 替换为你的OpenRouter密钥\n",
    "MODEL = \"anthropic/claude-sonnet-4\"  # 替换为你想测试的模型名\n",
    "# anthropic/claude-sonnet-4\n",
    "# google/gemini-2.5-pro\n",
    "\n",
    "\n",
    "response = requests.post(\n",
    "    url=\"https://openrouter.ai/api/v1/chat/completions\",\n",
    "    headers={\"Authorization\": f\"Bearer {API_KEY}\"},\n",
    "    json={\n",
    "        \"model\": MODEL,\n",
    "        \"messages\": [{\n",
    "            \"role\": \"user\", \n",
    "            \"content\": \"直接回答'[模型名称] 工作正常'，不要解释其他内容\"\n",
    "        }]\n",
    "    }\n",
    ")\n",
    "\n",
    "print(response.json()['choices'][0]['message']['content'])"
   ]
  }
 ],
 "metadata": {
  "kernelspec": {
   "display_name": "MONAI",
   "language": "python",
   "name": "python3"
  },
  "language_info": {
   "codemirror_mode": {
    "name": "ipython",
    "version": 3
   },
   "file_extension": ".py",
   "mimetype": "text/x-python",
   "name": "python",
   "nbconvert_exporter": "python",
   "pygments_lexer": "ipython3",
   "version": "3.12.11"
  }
 },
 "nbformat": 4,
 "nbformat_minor": 5
}
